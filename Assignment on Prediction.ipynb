{
 "cells": [
  {
   "cell_type": "code",
   "execution_count": 48,
   "id": "76c46405",
   "metadata": {},
   "outputs": [],
   "source": [
    "import pandas as pd\n",
    "import numpy as np\n",
    "import seaborn as sns\n",
    "import matplotlib.pyplot as plt\n",
    "from sklearn.model_selection import train_test_split, GridSearchCV\n",
    "from sklearn.preprocessing import StandardScaler, OneHotEncoder\n",
    "from sklearn.compose import ColumnTransformer\n",
    "from sklearn.pipeline import Pipeline\n",
    "from sklearn.impute import SimpleImputer\n",
    "from sklearn.linear_model import Ridge, Lasso\n",
    "from sklearn.ensemble import GradientBoostingRegressor\n",
    "from sklearn.metrics import mean_absolute_error, mean_squared_error, r2_score\n",
    "import os\n",
    "from sklearn.model_selection import train_test_split\n",
    "from sklearn.linear_model import LinearRegression\n",
    "from sklearn.metrics import mean_absolute_error, mean_squared_error\n",
    "from sklearn.ensemble import GradientBoostingRegressor"
   ]
  },
  {
   "cell_type": "code",
   "execution_count": 6,
   "id": "dc0d2c67",
   "metadata": {},
   "outputs": [
    {
     "name": "stdout",
     "output_type": "stream",
     "text": [
      "Current Working Directory: /Users/abenadonkor\n"
     ]
    }
   ],
   "source": [
    "# Current Directory\n",
    "\n",
    "print(\"Current Working Directory:\", os.getcwd())"
   ]
  },
  {
   "cell_type": "code",
   "execution_count": 7,
   "id": "cbe45ebd",
   "metadata": {},
   "outputs": [
    {
     "name": "stdout",
     "output_type": "stream",
     "text": [
      "Current Working Directory: /Users/abenadonkor/Downloads\n"
     ]
    }
   ],
   "source": [
    "# in case you want to change the directory use the below code.\n",
    "#I am currently using my directory\n",
    "\n",
    "os.chdir(\"/Users/abenadonkor/Downloads\")\n",
    "print(\"Current Working Directory:\", os.getcwd())"
   ]
  },
  {
   "cell_type": "code",
   "execution_count": 9,
   "id": "544f21d7",
   "metadata": {},
   "outputs": [
    {
     "data": {
      "text/html": [
       "<div>\n",
       "<style scoped>\n",
       "    .dataframe tbody tr th:only-of-type {\n",
       "        vertical-align: middle;\n",
       "    }\n",
       "\n",
       "    .dataframe tbody tr th {\n",
       "        vertical-align: top;\n",
       "    }\n",
       "\n",
       "    .dataframe thead th {\n",
       "        text-align: right;\n",
       "    }\n",
       "</style>\n",
       "<table border=\"1\" class=\"dataframe\">\n",
       "  <thead>\n",
       "    <tr style=\"text-align: right;\">\n",
       "      <th></th>\n",
       "      <th>Zip Code</th>\n",
       "      <th>Price</th>\n",
       "      <th>Beds</th>\n",
       "      <th>Baths</th>\n",
       "      <th>Living Space</th>\n",
       "      <th>Address</th>\n",
       "      <th>City</th>\n",
       "      <th>State</th>\n",
       "      <th>Zip Code Population</th>\n",
       "      <th>Zip Code Density</th>\n",
       "      <th>County</th>\n",
       "      <th>Median Household Income</th>\n",
       "      <th>Latitude</th>\n",
       "      <th>Longitude</th>\n",
       "    </tr>\n",
       "  </thead>\n",
       "  <tbody>\n",
       "    <tr>\n",
       "      <th>0</th>\n",
       "      <td>10013</td>\n",
       "      <td>3999000.0</td>\n",
       "      <td>2</td>\n",
       "      <td>3</td>\n",
       "      <td>1967</td>\n",
       "      <td>74 GRAND ST APT 3</td>\n",
       "      <td>New York</td>\n",
       "      <td>New York</td>\n",
       "      <td>29563</td>\n",
       "      <td>20967.9</td>\n",
       "      <td>New York</td>\n",
       "      <td>370046.0</td>\n",
       "      <td>40.72001</td>\n",
       "      <td>-74.00472</td>\n",
       "    </tr>\n",
       "    <tr>\n",
       "      <th>1</th>\n",
       "      <td>10013</td>\n",
       "      <td>3999000.0</td>\n",
       "      <td>2</td>\n",
       "      <td>3</td>\n",
       "      <td>1967</td>\n",
       "      <td>74 GRAND ST APT 3</td>\n",
       "      <td>New York</td>\n",
       "      <td>New York</td>\n",
       "      <td>29563</td>\n",
       "      <td>20967.9</td>\n",
       "      <td>New York</td>\n",
       "      <td>370046.0</td>\n",
       "      <td>40.72001</td>\n",
       "      <td>-74.00472</td>\n",
       "    </tr>\n",
       "    <tr>\n",
       "      <th>2</th>\n",
       "      <td>10014</td>\n",
       "      <td>1650000.0</td>\n",
       "      <td>1</td>\n",
       "      <td>1</td>\n",
       "      <td>718</td>\n",
       "      <td>140 CHARLES ST APT 4D</td>\n",
       "      <td>New York</td>\n",
       "      <td>New York</td>\n",
       "      <td>29815</td>\n",
       "      <td>23740.9</td>\n",
       "      <td>New York</td>\n",
       "      <td>249880.0</td>\n",
       "      <td>40.73407</td>\n",
       "      <td>-74.00601</td>\n",
       "    </tr>\n",
       "    <tr>\n",
       "      <th>3</th>\n",
       "      <td>10014</td>\n",
       "      <td>760000.0</td>\n",
       "      <td>3</td>\n",
       "      <td>2</td>\n",
       "      <td>1538</td>\n",
       "      <td>38 JONES ST</td>\n",
       "      <td>New York</td>\n",
       "      <td>New York</td>\n",
       "      <td>29815</td>\n",
       "      <td>23740.9</td>\n",
       "      <td>New York</td>\n",
       "      <td>249880.0</td>\n",
       "      <td>40.73407</td>\n",
       "      <td>-74.00601</td>\n",
       "    </tr>\n",
       "    <tr>\n",
       "      <th>4</th>\n",
       "      <td>10014</td>\n",
       "      <td>1100000.0</td>\n",
       "      <td>1</td>\n",
       "      <td>1</td>\n",
       "      <td>600</td>\n",
       "      <td>81 BEDFORD ST APT 3F</td>\n",
       "      <td>New York</td>\n",
       "      <td>New York</td>\n",
       "      <td>29815</td>\n",
       "      <td>23740.9</td>\n",
       "      <td>New York</td>\n",
       "      <td>249880.0</td>\n",
       "      <td>40.73407</td>\n",
       "      <td>-74.00601</td>\n",
       "    </tr>\n",
       "  </tbody>\n",
       "</table>\n",
       "</div>"
      ],
      "text/plain": [
       "   Zip Code      Price  Beds  Baths  Living Space                Address  \\\n",
       "0     10013  3999000.0     2      3          1967      74 GRAND ST APT 3   \n",
       "1     10013  3999000.0     2      3          1967      74 GRAND ST APT 3   \n",
       "2     10014  1650000.0     1      1           718  140 CHARLES ST APT 4D   \n",
       "3     10014   760000.0     3      2          1538            38 JONES ST   \n",
       "4     10014  1100000.0     1      1           600   81 BEDFORD ST APT 3F   \n",
       "\n",
       "       City     State  Zip Code Population  Zip Code Density    County  \\\n",
       "0  New York  New York                29563           20967.9  New York   \n",
       "1  New York  New York                29563           20967.9  New York   \n",
       "2  New York  New York                29815           23740.9  New York   \n",
       "3  New York  New York                29815           23740.9  New York   \n",
       "4  New York  New York                29815           23740.9  New York   \n",
       "\n",
       "   Median Household Income  Latitude  Longitude  \n",
       "0                 370046.0  40.72001  -74.00472  \n",
       "1                 370046.0  40.72001  -74.00472  \n",
       "2                 249880.0  40.73407  -74.00601  \n",
       "3                 249880.0  40.73407  -74.00601  \n",
       "4                 249880.0  40.73407  -74.00601  "
      ]
     },
     "execution_count": 9,
     "metadata": {},
     "output_type": "execute_result"
    }
   ],
   "source": [
    "# Loading the data for analysis\n",
    "\n",
    "df = pd.read_csv('American_Housing_Data_20231209.csv', low_memory=False)\n",
    "df.head()"
   ]
  },
  {
   "cell_type": "code",
   "execution_count": 10,
   "id": "efc50c3b",
   "metadata": {},
   "outputs": [
    {
     "data": {
      "text/plain": [
       "39981"
      ]
     },
     "execution_count": 10,
     "metadata": {},
     "output_type": "execute_result"
    }
   ],
   "source": [
    "len(df)"
   ]
  },
  {
   "cell_type": "code",
   "execution_count": 11,
   "id": "ec2c5196",
   "metadata": {},
   "outputs": [
    {
     "name": "stdout",
     "output_type": "stream",
     "text": [
      "<class 'pandas.core.frame.DataFrame'>\n",
      "RangeIndex: 39981 entries, 0 to 39980\n",
      "Data columns (total 14 columns):\n",
      " #   Column                   Non-Null Count  Dtype  \n",
      "---  ------                   --------------  -----  \n",
      " 0   Zip Code                 39981 non-null  int64  \n",
      " 1   Price                    39981 non-null  float64\n",
      " 2   Beds                     39981 non-null  int64  \n",
      " 3   Baths                    39981 non-null  int64  \n",
      " 4   Living Space             39981 non-null  int64  \n",
      " 5   Address                  39981 non-null  object \n",
      " 6   City                     39981 non-null  object \n",
      " 7   State                    39981 non-null  object \n",
      " 8   Zip Code Population      39981 non-null  int64  \n",
      " 9   Zip Code Density         39981 non-null  float64\n",
      " 10  County                   39981 non-null  object \n",
      " 11  Median Household Income  39979 non-null  float64\n",
      " 12  Latitude                 39981 non-null  float64\n",
      " 13  Longitude                39981 non-null  float64\n",
      "dtypes: float64(5), int64(5), object(4)\n",
      "memory usage: 4.3+ MB\n"
     ]
    }
   ],
   "source": [
    "df.info(verbose=True, show_counts=True)"
   ]
  },
  {
   "cell_type": "code",
   "execution_count": 13,
   "id": "a034d0dc",
   "metadata": {},
   "outputs": [
    {
     "data": {
      "text/plain": [
       "Zip Code                    1733\n",
       "Price                       5196\n",
       "Beds                          31\n",
       "Baths                         28\n",
       "Living Space                4623\n",
       "Address                    38827\n",
       "City                         243\n",
       "State                         29\n",
       "Zip Code Population         1712\n",
       "Zip Code Density            1706\n",
       "County                        88\n",
       "Median Household Income     1722\n",
       "Latitude                    1733\n",
       "Longitude                   1733\n",
       "dtype: int64"
      ]
     },
     "execution_count": 13,
     "metadata": {},
     "output_type": "execute_result"
    }
   ],
   "source": [
    "# Find unique values in the dataset\n",
    "\n",
    "pd.options.display.max_rows = 4000\n",
    "unique = df.nunique()\n",
    "unique"
   ]
  },
  {
   "cell_type": "code",
   "execution_count": 14,
   "id": "bd1efe00",
   "metadata": {},
   "outputs": [
    {
     "data": {
      "text/plain": [
       "Zip Code                   0\n",
       "Price                      0\n",
       "Beds                       0\n",
       "Baths                      0\n",
       "Living Space               0\n",
       "Address                    0\n",
       "City                       0\n",
       "State                      0\n",
       "Zip Code Population        0\n",
       "Zip Code Density           0\n",
       "County                     0\n",
       "Median Household Income    2\n",
       "Latitude                   0\n",
       "Longitude                  0\n",
       "dtype: int64"
      ]
     },
     "execution_count": 14,
     "metadata": {},
     "output_type": "execute_result"
    }
   ],
   "source": [
    "# checking for the null values in the data\n",
    "df.isnull().sum()"
   ]
  },
  {
   "cell_type": "code",
   "execution_count": 19,
   "id": "67bca66f",
   "metadata": {},
   "outputs": [],
   "source": [
    "# Handling missing values\n",
    "\n",
    "#Identifying  missing values\n",
    "\n",
    "missing_values = df.isnull().sum()"
   ]
  },
  {
   "cell_type": "code",
   "execution_count": 20,
   "id": "246910f8",
   "metadata": {},
   "outputs": [
    {
     "data": {
      "text/plain": [
       "Zip Code                   0.000000\n",
       "Price                      0.000000\n",
       "Beds                       0.000000\n",
       "Baths                      0.000000\n",
       "Living Space               0.000000\n",
       "Address                    0.000000\n",
       "City                       0.000000\n",
       "State                      0.000000\n",
       "Zip Code Population        0.000000\n",
       "Zip Code Density           0.000000\n",
       "County                     0.000000\n",
       "Median Household Income    0.005002\n",
       "Latitude                   0.000000\n",
       "Longitude                  0.000000\n",
       "dtype: float64"
      ]
     },
     "execution_count": 20,
     "metadata": {},
     "output_type": "execute_result"
    }
   ],
   "source": [
    "# get percentage of the missing value\n",
    "\n",
    "pd.set_option('display.max_rows', None)\n",
    "df.isnull().sum()/len(df)* 100"
   ]
  },
  {
   "cell_type": "code",
   "execution_count": 21,
   "id": "b9ac3168",
   "metadata": {},
   "outputs": [
    {
     "data": {
      "text/plain": [
       "Median Household Income    2\n",
       "dtype: int64"
      ]
     },
     "execution_count": 21,
     "metadata": {},
     "output_type": "execute_result"
    }
   ],
   "source": [
    "\n",
    "# Display columns with missing values\n",
    "missing_values[missing_values > 0]"
   ]
  },
  {
   "cell_type": "code",
   "execution_count": 22,
   "id": "75c432a7",
   "metadata": {},
   "outputs": [
    {
     "data": {
      "text/plain": [
       "Zip Code                     int64\n",
       "Price                      float64\n",
       "Beds                         int64\n",
       "Baths                        int64\n",
       "Living Space                 int64\n",
       "Address                     object\n",
       "City                        object\n",
       "State                       object\n",
       "Zip Code Population          int64\n",
       "Zip Code Density           float64\n",
       "County                      object\n",
       "Median Household Income    float64\n",
       "Latitude                   float64\n",
       "Longitude                  float64\n",
       "dtype: object"
      ]
     },
     "execution_count": 22,
     "metadata": {},
     "output_type": "execute_result"
    }
   ],
   "source": [
    "# identfying the datatypes \n",
    "\n",
    "df.dtypes"
   ]
  },
  {
   "cell_type": "code",
   "execution_count": 25,
   "id": "ee65f9d4",
   "metadata": {},
   "outputs": [],
   "source": [
    "# Removing all  duplicate rows\n",
    "data = data.drop_duplicates()"
   ]
  },
  {
   "cell_type": "code",
   "execution_count": 26,
   "id": "35aec176",
   "metadata": {},
   "outputs": [
    {
     "data": {
      "text/plain": [
       "(39019, 14)"
      ]
     },
     "execution_count": 26,
     "metadata": {},
     "output_type": "execute_result"
    }
   ],
   "source": [
    "# Display the number of rows and columns after removing duplicates\n",
    "data.shape"
   ]
  },
  {
   "cell_type": "code",
   "execution_count": 27,
   "id": "c6af6fb6",
   "metadata": {},
   "outputs": [],
   "source": [
    "# Fill missing values in 'Median Household Income' with the median of the column\n",
    "\n",
    "median_income = data['Median Household Income'].median()\n",
    "data['Median Household Income'].fillna(median_income, inplace=True)"
   ]
  },
  {
   "cell_type": "code",
   "execution_count": 28,
   "id": "ba8113c9",
   "metadata": {},
   "outputs": [],
   "source": [
    "# Create a new feature 'Price per Square Foot'\n",
    "\n",
    "data['Price per SqFt'] = data['Price'] / data['Living Space']"
   ]
  },
  {
   "cell_type": "code",
   "execution_count": 29,
   "id": "1812b86a",
   "metadata": {},
   "outputs": [
    {
     "data": {
      "text/html": [
       "<div>\n",
       "<style scoped>\n",
       "    .dataframe tbody tr th:only-of-type {\n",
       "        vertical-align: middle;\n",
       "    }\n",
       "\n",
       "    .dataframe tbody tr th {\n",
       "        vertical-align: top;\n",
       "    }\n",
       "\n",
       "    .dataframe thead th {\n",
       "        text-align: right;\n",
       "    }\n",
       "</style>\n",
       "<table border=\"1\" class=\"dataframe\">\n",
       "  <thead>\n",
       "    <tr style=\"text-align: right;\">\n",
       "      <th></th>\n",
       "      <th>Zip Code</th>\n",
       "      <th>Price</th>\n",
       "      <th>Beds</th>\n",
       "      <th>Baths</th>\n",
       "      <th>Living Space</th>\n",
       "      <th>Address</th>\n",
       "      <th>City</th>\n",
       "      <th>State</th>\n",
       "      <th>Zip Code Population</th>\n",
       "      <th>Zip Code Density</th>\n",
       "      <th>County</th>\n",
       "      <th>Median Household Income</th>\n",
       "      <th>Latitude</th>\n",
       "      <th>Longitude</th>\n",
       "      <th>Price per SqFt</th>\n",
       "    </tr>\n",
       "  </thead>\n",
       "  <tbody>\n",
       "    <tr>\n",
       "      <th>0</th>\n",
       "      <td>10013</td>\n",
       "      <td>3999000.0</td>\n",
       "      <td>2</td>\n",
       "      <td>3</td>\n",
       "      <td>1967</td>\n",
       "      <td>74 GRAND ST APT 3</td>\n",
       "      <td>New York</td>\n",
       "      <td>New York</td>\n",
       "      <td>29563</td>\n",
       "      <td>20967.9</td>\n",
       "      <td>New York</td>\n",
       "      <td>370046.0</td>\n",
       "      <td>40.72001</td>\n",
       "      <td>-74.00472</td>\n",
       "      <td>2033.045247</td>\n",
       "    </tr>\n",
       "    <tr>\n",
       "      <th>2</th>\n",
       "      <td>10014</td>\n",
       "      <td>1650000.0</td>\n",
       "      <td>1</td>\n",
       "      <td>1</td>\n",
       "      <td>718</td>\n",
       "      <td>140 CHARLES ST APT 4D</td>\n",
       "      <td>New York</td>\n",
       "      <td>New York</td>\n",
       "      <td>29815</td>\n",
       "      <td>23740.9</td>\n",
       "      <td>New York</td>\n",
       "      <td>249880.0</td>\n",
       "      <td>40.73407</td>\n",
       "      <td>-74.00601</td>\n",
       "      <td>2298.050139</td>\n",
       "    </tr>\n",
       "    <tr>\n",
       "      <th>3</th>\n",
       "      <td>10014</td>\n",
       "      <td>760000.0</td>\n",
       "      <td>3</td>\n",
       "      <td>2</td>\n",
       "      <td>1538</td>\n",
       "      <td>38 JONES ST</td>\n",
       "      <td>New York</td>\n",
       "      <td>New York</td>\n",
       "      <td>29815</td>\n",
       "      <td>23740.9</td>\n",
       "      <td>New York</td>\n",
       "      <td>249880.0</td>\n",
       "      <td>40.73407</td>\n",
       "      <td>-74.00601</td>\n",
       "      <td>494.148244</td>\n",
       "    </tr>\n",
       "    <tr>\n",
       "      <th>4</th>\n",
       "      <td>10014</td>\n",
       "      <td>1100000.0</td>\n",
       "      <td>1</td>\n",
       "      <td>1</td>\n",
       "      <td>600</td>\n",
       "      <td>81 BEDFORD ST APT 3F</td>\n",
       "      <td>New York</td>\n",
       "      <td>New York</td>\n",
       "      <td>29815</td>\n",
       "      <td>23740.9</td>\n",
       "      <td>New York</td>\n",
       "      <td>249880.0</td>\n",
       "      <td>40.73407</td>\n",
       "      <td>-74.00601</td>\n",
       "      <td>1833.333333</td>\n",
       "    </tr>\n",
       "    <tr>\n",
       "      <th>5</th>\n",
       "      <td>10017</td>\n",
       "      <td>764900.0</td>\n",
       "      <td>1</td>\n",
       "      <td>1</td>\n",
       "      <td>643</td>\n",
       "      <td>145 E 48TH ST APT 11E</td>\n",
       "      <td>New York</td>\n",
       "      <td>New York</td>\n",
       "      <td>15514</td>\n",
       "      <td>20107.7</td>\n",
       "      <td>New York</td>\n",
       "      <td>188289.0</td>\n",
       "      <td>40.75235</td>\n",
       "      <td>-73.97260</td>\n",
       "      <td>1189.580093</td>\n",
       "    </tr>\n",
       "  </tbody>\n",
       "</table>\n",
       "</div>"
      ],
      "text/plain": [
       "   Zip Code      Price  Beds  Baths  Living Space                Address  \\\n",
       "0     10013  3999000.0     2      3          1967      74 GRAND ST APT 3   \n",
       "2     10014  1650000.0     1      1           718  140 CHARLES ST APT 4D   \n",
       "3     10014   760000.0     3      2          1538            38 JONES ST   \n",
       "4     10014  1100000.0     1      1           600   81 BEDFORD ST APT 3F   \n",
       "5     10017   764900.0     1      1           643  145 E 48TH ST APT 11E   \n",
       "\n",
       "       City     State  Zip Code Population  Zip Code Density    County  \\\n",
       "0  New York  New York                29563           20967.9  New York   \n",
       "2  New York  New York                29815           23740.9  New York   \n",
       "3  New York  New York                29815           23740.9  New York   \n",
       "4  New York  New York                29815           23740.9  New York   \n",
       "5  New York  New York                15514           20107.7  New York   \n",
       "\n",
       "   Median Household Income  Latitude  Longitude  Price per SqFt  \n",
       "0                 370046.0  40.72001  -74.00472     2033.045247  \n",
       "2                 249880.0  40.73407  -74.00601     2298.050139  \n",
       "3                 249880.0  40.73407  -74.00601      494.148244  \n",
       "4                 249880.0  40.73407  -74.00601     1833.333333  \n",
       "5                 188289.0  40.75235  -73.97260     1189.580093  "
      ]
     },
     "execution_count": 29,
     "metadata": {},
     "output_type": "execute_result"
    }
   ],
   "source": [
    "# Display the first few rows to verify the changes\n",
    "data.head()"
   ]
  },
  {
   "cell_type": "code",
   "execution_count": 31,
   "id": "89daffde",
   "metadata": {},
   "outputs": [
    {
     "data": {
      "text/html": [
       "<div>\n",
       "<style scoped>\n",
       "    .dataframe tbody tr th:only-of-type {\n",
       "        vertical-align: middle;\n",
       "    }\n",
       "\n",
       "    .dataframe tbody tr th {\n",
       "        vertical-align: top;\n",
       "    }\n",
       "\n",
       "    .dataframe thead th {\n",
       "        text-align: right;\n",
       "    }\n",
       "</style>\n",
       "<table border=\"1\" class=\"dataframe\">\n",
       "  <thead>\n",
       "    <tr style=\"text-align: right;\">\n",
       "      <th></th>\n",
       "      <th>Zip Code</th>\n",
       "      <th>Price</th>\n",
       "      <th>Beds</th>\n",
       "      <th>Baths</th>\n",
       "      <th>Living Space</th>\n",
       "      <th>Zip Code Population</th>\n",
       "      <th>Zip Code Density</th>\n",
       "      <th>Median Household Income</th>\n",
       "      <th>Latitude</th>\n",
       "      <th>Longitude</th>\n",
       "    </tr>\n",
       "  </thead>\n",
       "  <tbody>\n",
       "    <tr>\n",
       "      <th>Zip Code</th>\n",
       "      <td>1.000000</td>\n",
       "      <td>0.110929</td>\n",
       "      <td>0.014740</td>\n",
       "      <td>0.004543</td>\n",
       "      <td>0.032537</td>\n",
       "      <td>-0.024488</td>\n",
       "      <td>-0.105494</td>\n",
       "      <td>0.148406</td>\n",
       "      <td>-0.050228</td>\n",
       "      <td>-0.940078</td>\n",
       "    </tr>\n",
       "    <tr>\n",
       "      <th>Price</th>\n",
       "      <td>0.110929</td>\n",
       "      <td>1.000000</td>\n",
       "      <td>0.277072</td>\n",
       "      <td>0.462072</td>\n",
       "      <td>0.520565</td>\n",
       "      <td>-0.042924</td>\n",
       "      <td>0.152544</td>\n",
       "      <td>0.416785</td>\n",
       "      <td>-0.058837</td>\n",
       "      <td>-0.168266</td>\n",
       "    </tr>\n",
       "    <tr>\n",
       "      <th>Beds</th>\n",
       "      <td>0.014740</td>\n",
       "      <td>0.277072</td>\n",
       "      <td>1.000000</td>\n",
       "      <td>0.703425</td>\n",
       "      <td>0.655098</td>\n",
       "      <td>0.069366</td>\n",
       "      <td>-0.131888</td>\n",
       "      <td>0.014459</td>\n",
       "      <td>-0.051626</td>\n",
       "      <td>0.006812</td>\n",
       "    </tr>\n",
       "    <tr>\n",
       "      <th>Baths</th>\n",
       "      <td>0.004543</td>\n",
       "      <td>0.462072</td>\n",
       "      <td>0.703425</td>\n",
       "      <td>1.000000</td>\n",
       "      <td>0.769079</td>\n",
       "      <td>0.001957</td>\n",
       "      <td>-0.068164</td>\n",
       "      <td>0.226429</td>\n",
       "      <td>-0.101349</td>\n",
       "      <td>0.000718</td>\n",
       "    </tr>\n",
       "    <tr>\n",
       "      <th>Living Space</th>\n",
       "      <td>0.032537</td>\n",
       "      <td>0.520565</td>\n",
       "      <td>0.655098</td>\n",
       "      <td>0.769079</td>\n",
       "      <td>1.000000</td>\n",
       "      <td>-0.042956</td>\n",
       "      <td>-0.103706</td>\n",
       "      <td>0.222995</td>\n",
       "      <td>-0.062532</td>\n",
       "      <td>-0.011148</td>\n",
       "    </tr>\n",
       "    <tr>\n",
       "      <th>Zip Code Population</th>\n",
       "      <td>-0.024488</td>\n",
       "      <td>-0.042924</td>\n",
       "      <td>0.069366</td>\n",
       "      <td>0.001957</td>\n",
       "      <td>-0.042956</td>\n",
       "      <td>1.000000</td>\n",
       "      <td>0.112308</td>\n",
       "      <td>-0.125361</td>\n",
       "      <td>-0.083752</td>\n",
       "      <td>-0.019359</td>\n",
       "    </tr>\n",
       "    <tr>\n",
       "      <th>Zip Code Density</th>\n",
       "      <td>-0.105494</td>\n",
       "      <td>0.152544</td>\n",
       "      <td>-0.131888</td>\n",
       "      <td>-0.068164</td>\n",
       "      <td>-0.103706</td>\n",
       "      <td>0.112308</td>\n",
       "      <td>1.000000</td>\n",
       "      <td>0.175198</td>\n",
       "      <td>0.184290</td>\n",
       "      <td>0.021751</td>\n",
       "    </tr>\n",
       "    <tr>\n",
       "      <th>Median Household Income</th>\n",
       "      <td>0.148406</td>\n",
       "      <td>0.416785</td>\n",
       "      <td>0.014459</td>\n",
       "      <td>0.226429</td>\n",
       "      <td>0.222995</td>\n",
       "      <td>-0.125361</td>\n",
       "      <td>0.175198</td>\n",
       "      <td>1.000000</td>\n",
       "      <td>0.047571</td>\n",
       "      <td>-0.220311</td>\n",
       "    </tr>\n",
       "    <tr>\n",
       "      <th>Latitude</th>\n",
       "      <td>-0.050228</td>\n",
       "      <td>-0.058837</td>\n",
       "      <td>-0.051626</td>\n",
       "      <td>-0.101349</td>\n",
       "      <td>-0.062532</td>\n",
       "      <td>-0.083752</td>\n",
       "      <td>0.184290</td>\n",
       "      <td>0.047571</td>\n",
       "      <td>1.000000</td>\n",
       "      <td>-0.046189</td>\n",
       "    </tr>\n",
       "    <tr>\n",
       "      <th>Longitude</th>\n",
       "      <td>-0.940078</td>\n",
       "      <td>-0.168266</td>\n",
       "      <td>0.006812</td>\n",
       "      <td>0.000718</td>\n",
       "      <td>-0.011148</td>\n",
       "      <td>-0.019359</td>\n",
       "      <td>0.021751</td>\n",
       "      <td>-0.220311</td>\n",
       "      <td>-0.046189</td>\n",
       "      <td>1.000000</td>\n",
       "    </tr>\n",
       "  </tbody>\n",
       "</table>\n",
       "</div>"
      ],
      "text/plain": [
       "                         Zip Code     Price      Beds     Baths  Living Space  \\\n",
       "Zip Code                 1.000000  0.110929  0.014740  0.004543      0.032537   \n",
       "Price                    0.110929  1.000000  0.277072  0.462072      0.520565   \n",
       "Beds                     0.014740  0.277072  1.000000  0.703425      0.655098   \n",
       "Baths                    0.004543  0.462072  0.703425  1.000000      0.769079   \n",
       "Living Space             0.032537  0.520565  0.655098  0.769079      1.000000   \n",
       "Zip Code Population     -0.024488 -0.042924  0.069366  0.001957     -0.042956   \n",
       "Zip Code Density        -0.105494  0.152544 -0.131888 -0.068164     -0.103706   \n",
       "Median Household Income  0.148406  0.416785  0.014459  0.226429      0.222995   \n",
       "Latitude                -0.050228 -0.058837 -0.051626 -0.101349     -0.062532   \n",
       "Longitude               -0.940078 -0.168266  0.006812  0.000718     -0.011148   \n",
       "\n",
       "                         Zip Code Population  Zip Code Density  \\\n",
       "Zip Code                           -0.024488         -0.105494   \n",
       "Price                              -0.042924          0.152544   \n",
       "Beds                                0.069366         -0.131888   \n",
       "Baths                               0.001957         -0.068164   \n",
       "Living Space                       -0.042956         -0.103706   \n",
       "Zip Code Population                 1.000000          0.112308   \n",
       "Zip Code Density                    0.112308          1.000000   \n",
       "Median Household Income            -0.125361          0.175198   \n",
       "Latitude                           -0.083752          0.184290   \n",
       "Longitude                          -0.019359          0.021751   \n",
       "\n",
       "                         Median Household Income  Latitude  Longitude  \n",
       "Zip Code                                0.148406 -0.050228  -0.940078  \n",
       "Price                                   0.416785 -0.058837  -0.168266  \n",
       "Beds                                    0.014459 -0.051626   0.006812  \n",
       "Baths                                   0.226429 -0.101349   0.000718  \n",
       "Living Space                            0.222995 -0.062532  -0.011148  \n",
       "Zip Code Population                    -0.125361 -0.083752  -0.019359  \n",
       "Zip Code Density                        0.175198  0.184290   0.021751  \n",
       "Median Household Income                 1.000000  0.047571  -0.220311  \n",
       "Latitude                                0.047571  1.000000  -0.046189  \n",
       "Longitude                              -0.220311 -0.046189   1.000000  "
      ]
     },
     "execution_count": 31,
     "metadata": {},
     "output_type": "execute_result"
    }
   ],
   "source": [
    "# Finding the correlation between the columns\n",
    "\n",
    "df.corr()"
   ]
  },
  {
   "cell_type": "code",
   "execution_count": 70,
   "id": "33298764",
   "metadata": {},
   "outputs": [
    {
     "data": {
      "image/png": "[encoded data removed]",
      "text/plain": [
       "<Figure size 1080x720 with 9 Axes>"
      ]
     },
     "metadata": {
      "needs_background": "light"
     },
     "output_type": "display_data"
    }
   ],
   "source": [
    "# plotting for all the numerical values\n",
    "\n",
    "numerical_features = ['Price', 'Beds', 'Baths', 'Living Space', 'Zip Code Population', 'Zip Code Density', 'Median Household Income', 'Latitude', 'Longitude']\n",
    "df[numerical_features].hist(bins=15, figsize=(15, 10), layout=(3, 3), color='navy')  # Changed color to navy blue\n",
    "plt.tight_layout()\n",
    "plt.show()"
   ]
  },
  {
   "cell_type": "code",
   "execution_count": 67,
   "id": "3e921427",
   "metadata": {},
   "outputs": [
    {
     "data": {
      "image/png": "[encoded data removed]",
      "text/plain": [
       "<Figure size 1080x720 with 8 Axes>"
      ]
     },
     "metadata": {
      "needs_background": "light"
     },
     "output_type": "display_data"
    }
   ],
   "source": [
    "# establishing the relationship between prices and other numerical values\n",
    "\n",
    "plt.figure(figsize=(15, 10))\n",
    "for i, feature in enumerate(numerical_features[1:], 1):\n",
    "    plt.subplot(3, 3, i)\n",
    "    plt.scatter(df[feature], df['Price'], color='gold')  # Changed color to gold\n",
    "    plt.xlabel(feature)\n",
    "    plt.ylabel('Price')\n",
    "    plt.title(f'Price vs {feature}')\n",
    "plt.tight_layout()\n",
    "plt.show()"
   ]
  },
  {
   "cell_type": "code",
   "execution_count": 34,
   "id": "7a17fc87",
   "metadata": {},
   "outputs": [],
   "source": [
    "# Define the feature columns and target variable\n",
    "features = data.drop(columns=['Price', 'Address', 'City', 'State', 'County'])\n",
    "target = data['Price']"
   ]
  },
  {
   "cell_type": "code",
   "execution_count": 35,
   "id": "bd7e3662",
   "metadata": {},
   "outputs": [],
   "source": [
    "# Split the data into two set, The training set and the testing set\n",
    "X_train, X_test, y_train, y_test = train_test_split(features, target, test_size=0.2, random_state=42)"
   ]
  },
  {
   "cell_type": "code",
   "execution_count": 36,
   "id": "ee36b35e",
   "metadata": {},
   "outputs": [
    {
     "data": {
      "text/plain": [
       "((31215, 10), (7804, 10), (31215,), (7804,))"
      ]
     },
     "execution_count": 36,
     "metadata": {},
     "output_type": "execute_result"
    }
   ],
   "source": [
    "# Displaying  the shapes of the training and testing sets\n",
    "X_train.shape, X_test.shape, y_train.shape, y_test.shape"
   ]
  },
  {
   "cell_type": "code",
   "execution_count": 40,
   "id": "e861d42b",
   "metadata": {},
   "outputs": [],
   "source": [
    "# Initialize the model\n",
    "linear_regxion = LinearRegression()"
   ]
  },
  {
   "cell_type": "code",
   "execution_count": 41,
   "id": "6a2f834d",
   "metadata": {},
   "outputs": [
    {
     "data": {
      "text/plain": [
       "LinearRegression()"
      ]
     },
     "execution_count": 41,
     "metadata": {},
     "output_type": "execute_result"
    }
   ],
   "source": [
    "# Train the model\n",
    "linear_regxion.fit(X_train, y_train)"
   ]
  },
  {
   "cell_type": "code",
   "execution_count": 42,
   "id": "1b294f7c",
   "metadata": {},
   "outputs": [],
   "source": [
    "# Make predictions\n",
    "y_pred_train = linear_regxion.predict(X_train)\n",
    "y_pred_test = linear_regxion.predict(X_test)"
   ]
  },
  {
   "cell_type": "code",
   "execution_count": 43,
   "id": "b4e11640",
   "metadata": {},
   "outputs": [
    {
     "data": {
      "text/plain": [
       "(277517.2487916865, 686251.0651273474, 287725.84245643404, 881271.1099213443)"
      ]
     },
     "execution_count": 43,
     "metadata": {},
     "output_type": "execute_result"
    }
   ],
   "source": [
    "# Evaluate the model\n",
    "mae_train = mean_absolute_error(y_train, y_pred_train)\n",
    "rmse_train = np.sqrt(mean_squared_error(y_train, y_pred_train))\n",
    "mae_test = mean_absolute_error(y_test, y_pred_test)\n",
    "rmse_test = np.sqrt(mean_squared_error(y_test, y_pred_test))\n",
    "\n",
    "mae_train, rmse_train, mae_test, rmse_test"
   ]
  },
  {
   "cell_type": "code",
   "execution_count": 49,
   "id": "5fd11201",
   "metadata": {},
   "outputs": [],
   "source": [
    "from sklearn.linear_model import Lasso\n",
    "\n",
    "# Initialize the model\n",
    "lasso_reg = Lasso()\n"
   ]
  },
  {
   "cell_type": "code",
   "execution_count": null,
   "id": "f866b035",
   "metadata": {},
   "outputs": [],
   "source": []
  },
  {
   "cell_type": "code",
   "execution_count": 45,
   "id": "d3b778fe",
   "metadata": {},
   "outputs": [
    {
     "data": {
      "text/plain": [
       "Lasso()"
      ]
     },
     "execution_count": 45,
     "metadata": {},
     "output_type": "execute_result"
    }
   ],
   "source": [
    "# Train the model\n",
    "lasso_reg.fit(X_train, y_train)"
   ]
  },
  {
   "cell_type": "code",
   "execution_count": 46,
   "id": "d4007379",
   "metadata": {},
   "outputs": [],
   "source": [
    "# Make predictions\n",
    "y_pred_train_lasso = lasso_reg.predict(X_train)\n",
    "y_pred_test_lasso = lasso_reg.predict(X_test)"
   ]
  },
  {
   "cell_type": "code",
   "execution_count": 47,
   "id": "eb39a209",
   "metadata": {},
   "outputs": [
    {
     "data": {
      "text/plain": [
       "(277516.9641857139, 686251.065130596, 287725.52348038746, 881271.1832587802)"
      ]
     },
     "execution_count": 47,
     "metadata": {},
     "output_type": "execute_result"
    }
   ],
   "source": [
    "# Evaluate the model\n",
    "mae_train_lasso = mean_absolute_error(y_train, y_pred_train_lasso)\n",
    "rmse_train_lasso = np.sqrt(mean_squared_error(y_train, y_pred_train_lasso))\n",
    "mae_test_lasso = mean_absolute_error(y_test, y_pred_test_lasso)\n",
    "rmse_test_lasso = np.sqrt(mean_squared_error(y_test, y_pred_test_lasso))\n",
    "mae_train_lasso, rmse_train_lasso, mae_test_lasso, rmse_test_lasso"
   ]
  },
  {
   "cell_type": "code",
   "execution_count": 50,
   "id": "45655651",
   "metadata": {},
   "outputs": [],
   "source": [
    "# Initialize the model\n",
    "gbr = GradientBoostingRegressor()"
   ]
  },
  {
   "cell_type": "code",
   "execution_count": 51,
   "id": "5e3ce3e9",
   "metadata": {},
   "outputs": [
    {
     "data": {
      "text/plain": [
       "GradientBoostingRegressor()"
      ]
     },
     "execution_count": 51,
     "metadata": {},
     "output_type": "execute_result"
    }
   ],
   "source": [
    "# Train the model\n",
    "gbr.fit(X_train, y_train)\n"
   ]
  },
  {
   "cell_type": "code",
   "execution_count": 52,
   "id": "83cc1d1d",
   "metadata": {},
   "outputs": [],
   "source": [
    "# Make predictions\n",
    "y_pred_train_gbr = gbr.predict(X_train)\n",
    "y_pred_test_gbr = gbr.predict(X_test)\n"
   ]
  },
  {
   "cell_type": "code",
   "execution_count": 53,
   "id": "c35764ff",
   "metadata": {},
   "outputs": [
    {
     "data": {
      "text/plain": [
       "(25677.335699375366, 52395.71600116492, 30372.63932731063, 124896.5015922944)"
      ]
     },
     "execution_count": 53,
     "metadata": {},
     "output_type": "execute_result"
    }
   ],
   "source": [
    "# Evaluate the model\n",
    "mae_train_gbr = mean_absolute_error(y_train, y_pred_train_gbr)\n",
    "rmse_train_gbr = np.sqrt(mean_squared_error(y_train, y_pred_train_gbr))\n",
    "mae_test_gbr = mean_absolute_error(y_test, y_pred_test_gbr)\n",
    "rmse_test_gbr = np.sqrt(mean_squared_error(y_test, y_pred_test_gbr))\n",
    "\n",
    "mae_train_gbr, rmse_train_gbr, mae_test_gbr, rmse_test_gbr"
   ]
  },
  {
   "cell_type": "code",
   "execution_count": 54,
   "id": "b777091e",
   "metadata": {},
   "outputs": [],
   "source": [
    "\n",
    "# Initialize the model\n",
    "ridge_reg = Ridge()\n"
   ]
  },
  {
   "cell_type": "code",
   "execution_count": 55,
   "id": "4d0a46f7",
   "metadata": {},
   "outputs": [
    {
     "data": {
      "text/plain": [
       "Ridge()"
      ]
     },
     "execution_count": 55,
     "metadata": {},
     "output_type": "execute_result"
    }
   ],
   "source": [
    "# Train the model\n",
    "ridge_reg.fit(X_train, y_train)"
   ]
  },
  {
   "cell_type": "code",
   "execution_count": 56,
   "id": "a97bc02b",
   "metadata": {},
   "outputs": [],
   "source": [
    "# Make predictions\n",
    "y_pred_train_ridge = ridge_reg.predict(X_train)\n",
    "y_pred_test_ridge = ridge_reg.predict(X_test)"
   ]
  },
  {
   "cell_type": "code",
   "execution_count": 57,
   "id": "dc3e8f74",
   "metadata": {},
   "outputs": [
    {
     "data": {
      "text/plain": [
       "(277516.5802062733, 686251.0651506435, 287725.08385630074, 881271.0785952109)"
      ]
     },
     "execution_count": 57,
     "metadata": {},
     "output_type": "execute_result"
    }
   ],
   "source": [
    "# Evaluate the model\n",
    "mae_train_ridge = mean_absolute_error(y_train, y_pred_train_ridge)\n",
    "rmse_train_ridge = np.sqrt(mean_squared_error(y_train, y_pred_train_ridge))\n",
    "mae_test_ridge = mean_absolute_error(y_test, y_pred_test_ridge)\n",
    "rmse_test_ridge = np.sqrt(mean_squared_error(y_test, y_pred_test_ridge))\n",
    "\n",
    "mae_train_ridge, rmse_train_ridge, mae_test_ridge, rmse_test_ridge"
   ]
  },
  {
   "cell_type": "code",
   "execution_count": 58,
   "id": "00c0fabb",
   "metadata": {},
   "outputs": [],
   "source": [
    "# visualising the performance \n",
    "\n",
    "# Names of the models evaluated\n",
    "model_names = ['Linear Regression', 'Ridge Regression', 'Lasso Regression', 'Gradient Boosting Regression']\n",
    "\n"
   ]
  },
  {
   "cell_type": "code",
   "execution_count": 59,
   "id": "1b23a4ac",
   "metadata": {},
   "outputs": [],
   "source": [
    "# Performance metrics\n",
    "mae_train = [277517.25, 277516.58, 277516.96, 25677.34]\n",
    "mae_test = [287725.84, 287725.08, 287725.52, 30399.71]\n",
    "rmse_train = [686251.07, 686251.07, 686251.07, 52395.72]\n",
    "rmse_test = [881271.11, 881271.08, 881271.18, 125123.16]\n"
   ]
  },
  {
   "cell_type": "code",
   "execution_count": 60,
   "id": "0ae197b5",
   "metadata": {},
   "outputs": [
    {
     "data": {
      "text/plain": [
       "<Figure size 864x432 with 0 Axes>"
      ]
     },
     "metadata": {},
     "output_type": "display_data"
    }
   ],
   "source": [
    "# Plotting Mean Absolute Error (MAE) for both training and testing sets\n",
    "plt.figure(figsize=(12, 6))\n",
    "bar_width = 0.35\n",
    "index = np.arange(len(model_names))"
   ]
  },
  {
   "cell_type": "code",
   "execution_count": 68,
   "id": "88cbacf2",
   "metadata": {},
   "outputs": [
    {
     "data": {
      "image/png": "[encoded data removed]",
      "text/plain": [
       "<Figure size 432x288 with 1 Axes>"
      ]
     },
     "metadata": {
      "needs_background": "light"
     },
     "output_type": "display_data"
    }
   ],
   "source": [
    "# Bar chart for MAE\n",
    "plt.bar(index, mae_train, bar_width, color='navy', label='Train')  # Changed color to navy blue\n",
    "plt.bar(index + bar_width, mae_test, bar_width, color='gold', label='Test')  # Changed color to gold\n",
    "\n",
    "plt.xlabel('Models')\n",
    "plt.ylabel('Mean Absolute Error (MAE)')\n",
    "plt.title('Mean Absolute Error (MAE) Comparison')\n",
    "plt.xticks(index + bar_width / 2, model_names, rotation=45)\n",
    "plt.legend()\n",
    "\n",
    "plt.tight_layout()\n",
    "plt.show()\n",
    "\n"
   ]
  },
  {
   "cell_type": "code",
   "execution_count": 62,
   "id": "0af25984",
   "metadata": {},
   "outputs": [
    {
     "data": {
      "text/plain": [
       "<Figure size 864x432 with 0 Axes>"
      ]
     },
     "execution_count": 62,
     "metadata": {},
     "output_type": "execute_result"
    },
    {
     "data": {
      "text/plain": [
       "<Figure size 864x432 with 0 Axes>"
      ]
     },
     "metadata": {},
     "output_type": "display_data"
    }
   ],
   "source": [
    "# Plotting Root Mean Squared Error (RMSE) for both training and testing sets\n",
    "plt.figure(figsize=(12, 6))\n"
   ]
  },
  {
   "cell_type": "code",
   "execution_count": 69,
   "id": "cc1f67b0",
   "metadata": {},
   "outputs": [
    {
     "data": {
      "image/png": "[encoded data removed]",
      "text/plain": [
       "<Figure size 432x288 with 1 Axes>"
      ]
     },
     "metadata": {
      "needs_background": "light"
     },
     "output_type": "display_data"
    }
   ],
   "source": [
    "# Bar chart for RMSE\n",
    "plt.bar(index, mae_train, bar_width, color='navy', label='Train')  # Changed color to navy blue\n",
    "plt.bar(index + bar_width, mae_test, bar_width, color='gold', label='Test')  # Changed color to gold\n",
    "\n",
    "plt.xlabel('Models')\n",
    "plt.ylabel('Root Mean Squared Error (RMSE)')\n",
    "plt.title('Root Mean Squared Error (RMSE) Comparison')\n",
    "plt.xticks(index + bar_width / 2, model_names, rotation=45)\n",
    "plt.legend()\n",
    "\n",
    "plt.tight_layout()\n",
    "plt.show()"
   ]
  },
  {
   "cell_type": "code",
   "execution_count": null,
   "id": "dff9ca11",
   "metadata": {},
   "outputs": [],
   "source": [
    "# Four Advance Regression techniques where performed namely linear, Lasso,Gradient Boost and Ridge Regression.\n"
   ]
  },
  {
   "cell_type": "code",
   "execution_count": null,
   "id": "0656c68d",
   "metadata": {},
   "outputs": [],
   "source": []
  },
  {
   "cell_type": "code",
   "execution_count": null,
   "id": "b5d7d4a9",
   "metadata": {},
   "outputs": [],
   "source": []
  }
 ],
 "metadata": {
  "kernelspec": {
   "display_name": "Python 3 (ipykernel)",
   "language": "python",
   "name": "python3"
  },
  "language_info": {
   "codemirror_mode": {
    "name": "ipython",
    "version": 3
   },
   "file_extension": ".py",
   "mimetype": "text/x-python",
   "name": "python",
   "nbconvert_exporter": "python",
   "pygments_lexer": "ipython3",
   "version": "3.9.12"
  }
 },
 "nbformat": 4,
 "nbformat_minor": 5
}
